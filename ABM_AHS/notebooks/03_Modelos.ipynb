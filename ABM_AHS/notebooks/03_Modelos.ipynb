{
 "cells": [
  {
   "cell_type": "markdown",
   "id": "79447c1c",
   "metadata": {},
   "source": [
    "### 3. Aplicación de algoritmos"
   ]
  },
  {
   "cell_type": "markdown",
   "id": "2957059d",
   "metadata": {},
   "source": [
    "Ahora nos embarcamos en la tarea de evaluar diversos modelos, buscando aquel que mejor se adapte a las complejidades de nuestro conjunto de datos. A lo largo de esta exploración, probaremos una gran variedad de modelos, desde aquellos más simples hasta los más complejos, con el objetivo de identificar el algoritmo que maximice la capacidad predictiva."
   ]
  },
  {
   "cell_type": "markdown",
   "id": "0f90e58b",
   "metadata": {},
   "source": [
    "#### Importación librerías y funciones"
   ]
  },
  {
   "cell_type": "code",
   "execution_count": 1,
   "id": "2a765eb4",
   "metadata": {},
   "outputs": [],
   "source": [
    "import pandas as pd\n",
    "import numpy as np\n",
    "from matplotlib import pyplot as plt\n",
    "import seaborn as sns\n",
    "import sklearn\n",
    "from sklearn.model_selection import train_test_split\n",
    "from imblearn.over_sampling import SMOTE\n",
    "from sklearn.pipeline import Pipeline\n",
    "from sklearn.impute import SimpleImputer\n",
    "from sklearn.tree import DecisionTreeClassifier\n",
    "from sklearn.naive_bayes import GaussianNB\n",
    "from sklearn.linear_model import LogisticRegression\n",
    "from sklearn.svm import SVC\n",
    "from sklearn.ensemble import RandomForestClassifier\n",
    "from xgboost import XGBClassifier\n",
    "from xgboost import XGBRegressor\n",
    "from sklearn.ensemble import AdaBoostClassifier\n",
    "from sklearn.ensemble import GradientBoostingClassifier\n",
    "import xgboost as xgb\n",
    "import lightgbm as lgb \n",
    "from sklearn import metrics\n",
    "from sklearn.metrics import (\n",
    "    accuracy_score, precision_score, recall_score, f1_score, fbeta_score,\n",
    "    classification_report, confusion_matrix, roc_curve, auc,\n",
    "    silhouette_score, make_scorer, precision_recall_curve, roc_auc_score\n",
    ")\n",
    "\n",
    "import time"
   ]
  },
  {
   "cell_type": "code",
   "execution_count": 2,
   "id": "d4effb04",
   "metadata": {},
   "outputs": [],
   "source": [
    "import warnings\n",
    "warnings.filterwarnings('ignore')"
   ]
  },
  {
   "cell_type": "code",
   "execution_count": 3,
   "id": "467954dd",
   "metadata": {},
   "outputs": [],
   "source": [
    "from funciones import evaluate_model"
   ]
  },
  {
   "cell_type": "markdown",
   "id": "b6ceebf1",
   "metadata": {},
   "source": [
    "#### Carga de datos"
   ]
  },
  {
   "cell_type": "code",
   "execution_count": 4,
   "id": "ea32937e",
   "metadata": {},
   "outputs": [],
   "source": [
    "pd_fraud = pd.read_csv('../data/seleccion.csv')"
   ]
  },
  {
   "cell_type": "markdown",
   "id": "be085ffc",
   "metadata": {},
   "source": [
    "#### Split in Train, Validation and Test"
   ]
  },
  {
   "cell_type": "markdown",
   "id": "bcaad59d",
   "metadata": {},
   "source": [
    "Divimos el dataset en train y test, y posteriomente volvemos a dividir el train para obtener la validación, de esta manera tenemos train con un 60 % del dataset, y validación y test con un 20 % cada uno.\n",
    "\n",
    "Train lo utilizaremos para entrenar el modelo y validación para predecir. Posteriomente, una vez hayamos escogido el modelo o modelos más óptimos, utilizaremos la primera partición de train para entrenar y test para predecir, ya con el modelo ajustado con los mejores hiperparámetros."
   ]
  },
  {
   "cell_type": "code",
   "execution_count": 5,
   "id": "3b2b6f4a",
   "metadata": {},
   "outputs": [],
   "source": [
    "# Separate features (X) and the target variable (y) from the DataFrame\n",
    "X = pd_fraud.drop('fraud_bool', axis=1)\n",
    "y = pd_fraud['fraud_bool']"
   ]
  },
  {
   "cell_type": "code",
   "execution_count": 6,
   "id": "f1bf06c4",
   "metadata": {},
   "outputs": [],
   "source": [
    "# Set a fixed random state value for reproducibility\n",
    "random_state_value = 123"
   ]
  },
  {
   "cell_type": "code",
   "execution_count": 7,
   "id": "130f2205",
   "metadata": {},
   "outputs": [],
   "source": [
    "# Split the data into training (training_0) and test sets\n",
    "X_train_0, X_test, y_train_0, y_test = train_test_split(X, y, test_size=0.2, random_state=random_state_value)\n",
    "\n",
    "# Split the training (training_0) set into training (training_1) and validation sets\n",
    "X_train, X_val, y_train, y_val = train_test_split(X_train_0, y_train_0, test_size=0.25, random_state=random_state_value)\n",
    "\n",
    "# Create DataFrames for the training, validation, and test sets\n",
    "pd_fraud_train = pd.concat([y_train, X_train], axis=1)\n",
    "pd_fraud_val = pd.concat([y_val, X_val], axis=1)\n",
    "pd_fraud_test = pd.concat([y_test, X_test], axis=1)\n",
    "\n",
    "# Create a DataFrame for the original training set (training_0) that will be used in the following notebook\n",
    "pd_fraud_train_0 = pd.concat([y_train_0, X_train_0], axis=1)"
   ]
  },
  {
   "cell_type": "markdown",
   "id": "4bb685f8",
   "metadata": {},
   "source": [
    "Comprobamos que tanto train como validacion como test siguen una distribución muy similar en cuanto al fraude"
   ]
  },
  {
   "cell_type": "code",
   "execution_count": 8,
   "id": "fb3853c4",
   "metadata": {
    "scrolled": true
   },
   "outputs": [
    {
     "name": "stdout",
     "output_type": "stream",
     "text": [
      "== Train ==\n",
      " fraud_bool\n",
      "0    0.988927\n",
      "1    0.011073\n",
      "Name: proportion, dtype: float64\n",
      "== Val ==\n",
      " fraud_bool\n",
      "0    0.98905\n",
      "1    0.01095\n",
      "Name: proportion, dtype: float64\n",
      "== Test ==\n",
      " fraud_bool\n",
      "0    0.989025\n",
      "1    0.010975\n",
      "Name: proportion, dtype: float64\n"
     ]
    }
   ],
   "source": [
    "# Print normalized value counts for the 'fraud_bool' column in the training set\n",
    "print('== Train ==\\n', pd_fraud_train['fraud_bool'].value_counts(normalize=True))\n",
    "\n",
    "# Print normalized value counts for the 'fraud_bool' column in the validation set\n",
    "print('== Val ==\\n', pd_fraud_val['fraud_bool'].value_counts(normalize=True))\n",
    "\n",
    "# Print normalized value counts for the 'fraud_bool' column in the test set\n",
    "print('== Test ==\\n', pd_fraud_test['fraud_bool'].value_counts(normalize=True))\n"
   ]
  },
  {
   "cell_type": "markdown",
   "id": "a9840c87",
   "metadata": {},
   "source": [
    "#### Oversampling"
   ]
  },
  {
   "cell_type": "markdown",
   "id": "720df6e7",
   "metadata": {},
   "source": [
    "Dado el gran desbalanceo que presenta el dataset decidimos realizar oversampling con el objetivo de dotar a los modelos de una muestra balanceada que consiga mejorar nuestras predicciones."
   ]
  },
  {
   "cell_type": "markdown",
   "id": "a813a6e4",
   "metadata": {},
   "source": [
    "En nuestro al enfretarnos a un dataset tan altamente desbalanceado, la decisión de realizar un oversampling colocando la clase minoritaria en torno al 33% obedece al objetivo de mitigar el desequilibrio de clases y preservar la integridad de la distribución de los datos.\n",
    "\n",
    "En la detección de fraudes, por ejemplo, donde las transacciones fraudulentas son eventos poco frecuentes, el gran desequilibrio inicial de clases plantea retos para el entrenamiento del modelo. Limitarse a buscar un equilibrio del 50-50 podría llevar a una extrema sobrerrepresentación de muestras sintéticas para la clase minoritaria, lo que podría introducir ruido e imprecisiones.\n",
    "\n",
    "Al seleccionar un objetivo más moderado, en torno al 33%, reconocemos la rareza de la clase minoritaria y buscamos un equilibrio que mejore la capacidad del modelo para aprender patrones significativos sin eclipsar la distribución original de los datos. Este enfoque pretende mejorar la sensibilidad del modelo a la clase minoritaria, evitando al mismo tiempo un énfasis exagerado que pueda comprometer su rendimiento en escenarios desequilibrados del mundo real."
   ]
  },
  {
   "cell_type": "code",
   "execution_count": 9,
   "id": "11c656b8",
   "metadata": {},
   "outputs": [],
   "source": [
    "# Define the desired ratio of the minority to majority class after SMOTE\n",
    "desired_ratio = 0.5\n",
    "\n",
    "# Initialize the SMOTE (Synthetic Minority Over-sampling Technique) with the specified sampling strategy and random state\n",
    "smote = SMOTE(sampling_strategy=desired_ratio, random_state=random_state_value)\n",
    "\n",
    "# Apply SMOTE to the training set to balance the class distribution\n",
    "X_train, y_train = smote.fit_resample(X_train, y_train)\n",
    "\n"
   ]
  },
  {
   "cell_type": "code",
   "execution_count": 10,
   "id": "cb327740",
   "metadata": {
    "scrolled": true
   },
   "outputs": [
    {
     "name": "stdout",
     "output_type": "stream",
     "text": [
      "             Count  Percentage\n",
      "fraud_bool                    \n",
      "0           593356   66.666667\n",
      "1           296678   33.333333\n"
     ]
    }
   ],
   "source": [
    "# Count the occurrences of each class in the target variable (y_train)\n",
    "fraud_count = pd.value_counts(y_train)\n",
    "\n",
    "# Calculate the percentage of each class\n",
    "fraud_percentage = fraud_count / len(y_train) * 100\n",
    "\n",
    "# Create a DataFrame with the count and percentage of each class\n",
    "result_df = pd.DataFrame({'Count': fraud_count, 'Percentage': fraud_percentage})\n",
    "\n",
    "# Print the resulting DataFrame\n",
    "print(result_df)"
   ]
  },
  {
   "cell_type": "markdown",
   "id": "eddaa6b9",
   "metadata": {},
   "source": [
    "### Modelo Base"
   ]
  },
  {
   "cell_type": "markdown",
   "id": "3b2003a6",
   "metadata": {},
   "source": [
    "En primer lugar, efectuaremos el modelo base mediante la imputación de las predicciones a la clase mayoritaria, en este caso a la clase 0 (solicitud no fraudulenta) obviamente.\n",
    "\n",
    "Dado el gran desbalanceo del dataset lograremos un Accuracy superior al 98%. Este modelo nos servira como marco de referencia previo al entrenamiento del resto de modelos."
   ]
  },
  {
   "cell_type": "code",
   "execution_count": 11,
   "id": "aab9ad25",
   "metadata": {},
   "outputs": [],
   "source": [
    "# Create a baseline prediction array with zeros for the length of the validation set target variable (y_val)\n",
    "base_pred = [0] * len(y_val)\n",
    "\n",
    "# Convert the list to a NumPy array\n",
    "base_pred = np.array(base_pred)"
   ]
  },
  {
   "cell_type": "code",
   "execution_count": 12,
   "id": "b766a61e",
   "metadata": {
    "scrolled": true
   },
   "outputs": [
    {
     "data": {
      "text/plain": [
       "0.98905"
      ]
     },
     "execution_count": 12,
     "metadata": {},
     "output_type": "execute_result"
    }
   ],
   "source": [
    "# Calculate accuracy by comparing the actual target values (y_val) with the baseline predictions (base_pred)\n",
    "accuracy = accuracy_score(y_val, base_pred)\n",
    "\n",
    "# Print the accuracy value\n",
    "accuracy"
   ]
  },
  {
   "cell_type": "markdown",
   "id": "e7274317",
   "metadata": {},
   "source": [
    "Obviamente el modelo base tiene un accuracy extremadamente alto, ya que el problema ante el que nos encontramos esta extremadamente desbalanceado, de esta manera al predecir todos los resultados como la clase mayoritaria, clase 0, el modelo base detecta todos los no fraudes pero los fraudes que son como hemos visto aproximadamente el 1 % del total no se detectan, debido a ello, nos encontramos con las siguientes matrices de confusión."
   ]
  },
  {
   "cell_type": "code",
   "execution_count": 13,
   "id": "ebaa748c",
   "metadata": {},
   "outputs": [
    {
     "data": {
      "image/png": "[encoded data removed]",
      "text/plain": [
       "<Figure size 600x600 with 1 Axes>"
      ]
     },
     "metadata": {},
     "output_type": "display_data"
    }
   ],
   "source": [
    "# Calculate the confusion matrix with counts using the actual target values (y_val) and baseline predictions (base_pred)\n",
    "conf_matrix_counts = confusion_matrix(y_val, base_pred)\n",
    "\n",
    "# Plot a heatmap of the confusion matrix with annotations\n",
    "plt.figure(figsize=(6, 6))\n",
    "sns.heatmap(conf_matrix_counts, annot=True, fmt='d', cmap='Blues', cbar=False, xticklabels=['Class 0', 'Class 1'], yticklabels=['Class 0', 'Class 1'])\n",
    "plt.title('Confusion Matrix with Counts')\n",
    "plt.xlabel('Predicted')\n",
    "plt.ylabel('Actual')\n",
    "plt.show()"
   ]
  },
  {
   "cell_type": "code",
   "execution_count": 14,
   "id": "809fe85f",
   "metadata": {
    "scrolled": true
   },
   "outputs": [
    {
     "data": {
      "image/png": "[encoded data removed]",
      "text/plain": [
       "<Figure size 600x600 with 1 Axes>"
      ]
     },
     "metadata": {},
     "output_type": "display_data"
    }
   ],
   "source": [
    "# Calculate the confusion matrix with counts using the actual target values (y_val) and baseline predictions (base_pred)\n",
    "conf_matrix_counts = confusion_matrix(y_val, base_pred)\n",
    "\n",
    "# Plot a heatmap of the confusion matrix with annotations\n",
    "plt.figure(figsize=(6, 6))\n",
    "sns.heatmap(conf_matrix_counts, annot=True, fmt='d', cmap='Blues', cbar=False, xticklabels=['Class 0', 'Class 1'], yticklabels=['Class 0', 'Class 1'])\n",
    "plt.title('Confusion Matrix with Counts')\n",
    "plt.xlabel('Predicted')\n",
    "plt.ylabel('Actual')\n",
    "plt.show()\n"
   ]
  },
  {
   "cell_type": "markdown",
   "id": "e4d936bc",
   "metadata": {},
   "source": [
    "### Modelos"
   ]
  },
  {
   "cell_type": "markdown",
   "id": "2e1ecc80",
   "metadata": {},
   "source": [
    "En primer lugar entrenaremos una variedad de modelos y extraeremos varias métricas, estos modelos serán entrenados con los hiperparámetros por defecto, no se llevará a cabo ningún ajuste."
   ]
  },
  {
   "cell_type": "markdown",
   "id": "b240778a",
   "metadata": {},
   "source": [
    "- Decision Tree: Un modelo que toma decisiones recursivas basadas en características para clasificar datos. Divide el conjunto de datos en ramas según reglas lógicas.\n",
    "\n",
    "\n",
    "- Naive Bayes: Un clasificador probabilístico basado en el teorema de Bayes. Asume independencia condicional entre las características dadas las clases y es efectivo para datos con alta dimensionalidad.\n",
    "\n",
    "- GLM (Generalized Linear Model): Un enfoque estadístico que generaliza la regresión lineal, permitiendo diferentes distribuciones y funciones de enlace. En el contexto de la clasificación, se utiliza para modelar la relación entre variables predictoras y la probabilidad de pertenecer a una clase.\n",
    "\n",
    "- SVM (Support Vector Machine): Un algoritmo que encuentra un hiperplano de separación óptimo entre clases en un espacio de características de alta dimensión. Es efectivo para conjuntos de datos no lineales mediante el uso de funciones de kernel.\n",
    "\n",
    "- Random Forest: Random Forest es un modelo basado en la técnica de ensamblado llamada Bagging (Bootstrap Aggregating). En un Random Forest, se construye un conjunto de árboles de decisión durante el entrenamiento, donde cada árbol es entrenado en una muestra aleatoria del conjunto de datos original. Este proceso de muestreo aleatorio se conoce como bootstrap sampling. La palabra \"random\" en Random Forest se refiere a la introducción adicional de aleatoriedad durante la construcción de cada árbol.\n",
    "\n",
    "- XGBoost: Una implementación eficiente y escalable de algoritmos de gradient boosting, diseñada para mejorar la velocidad y rendimiento. Utiliza árboles de decisión como modelos base y se enfoca en la optimización de la función de pérdida.\n",
    "\n",
    "- LightGBM: Otra biblioteca de gradient boosting que se destaca por su eficiencia y velocidad. Utiliza el algoritmo de Gradient Boosting, pero utiliza estrategias de crecimiento de árboles diferentes para mejorar la eficiencia computacional.\n",
    "\n",
    "XGBoost y LightGBM son algoritmos de gradient boosting para el aprendizaje supervisado, pero difieren en aspectos clave. XGBoost emplea una estrategia de crecimiento de árbol en profundidad, mientras que LightGBM utiliza una estrategia de crecimiento en hojas, lo que reduce el tiempo de entrenamiento. En cuanto a las características categóricas, XGBoost requiere preprocesamiento, mientras que LightGBM las admite de forma nativa. En cuanto a la paralelización, XGBoost funciona con bloques de columnas, mientras que LightGBM utiliza bloques de filas. LightGBM está diseñado para ahorrar más memoria, lo que lo hace adecuado para grandes conjuntos de datos. XGBoost está ampliamente extendido y probado, y funciona bien en conjuntos de datos pequeños y medianos, mientras que LightGBM está optimizado para la velocidad, especialmente en conjuntos de datos grandes. El ajuste de los parámetros es similar, pero las diferencias en el crecimiento del árbol y el tratamiento de las características categóricas pueden afectar a sus interpretaciones. La elección depende de las características del conjunto de datos, los recursos disponibles y el equilibrio deseado entre velocidad y rendimiento.\n",
    "\n",
    "\n",
    "- Adaboost: Un algoritmo de boosting que combina varios clasificadores débiles para formar un clasificador fuerte. Se centra en mejorar la precisión corrigiendo los errores de los clasificadores anteriores.\n",
    "\n",
    "- Gradient Boost: Un enfoque de boosting que construye una serie de modelos de manera secuencial, cada uno corrigiendo los errores del modelo anterior. Es eficaz para mejorar la precisión y puede adaptarse a diversos conjuntos de datos.\n",
    "\n",
    "\n",
    "AdaBoost y Gradient Boosting son ambos métodos de ensamblado que buscan mejorar el rendimiento de modelos más simples al combinar múltiples clasificadores débiles. Sin embargo, difieren en su enfoque para corregir los errores y asignar importancia a las instancias del conjunto de datos.\n",
    "En AdaBoost, cada clasificador débil se entrena secuencialmente, y se da más peso a las instancias mal clasificadas en cada iteración. Esto permite que los clasificadores se centren en corregir los errores cometidos por los clasificadores anteriores, ajustando los pesos de las instancias de manera adaptativa.\n",
    "En Gradient Boosting, el enfoque se basa en ajustar modelos adicionales para corregir los residuos (diferencias entre las predicciones actuales y las reales) de los modelos anteriores. Cada nuevo clasificador se enfoca en reducir los errores restantes en el conjunto de datos"
   ]
  },
  {
   "cell_type": "code",
   "execution_count": 15,
   "id": "8f2ea153",
   "metadata": {},
   "outputs": [],
   "source": [
    "# Create a dictionary of machine learning models, each initialized with its respective classifier\n",
    "models = {\n",
    "    'Decision Tree': DecisionTreeClassifier(),\n",
    "    'Naive Bayes': GaussianNB(),\n",
    "    'GLM': LogisticRegression(),\n",
    "    'SVM': SVC(),\n",
    "    'Random Forest': RandomForestClassifier(),\n",
    "    'XGBOOST': xgb.XGBClassifier(),\n",
    "    'LightGBM': lgb.LGBMClassifier(),\n",
    "    'Adaboost': AdaBoostClassifier(),\n",
    "    'Gradient Boost': GradientBoostingClassifier()\n",
    "}\n"
   ]
  },
  {
   "cell_type": "markdown",
   "id": "291100bc",
   "metadata": {},
   "source": [
    "El modelo SVM (Support Vector Machine) es un modelo muy exigente computacionalmente, debido a ello lo ejecutaremos solo en una parte del train, de esta manera comprobaremos que dado du elevado tiempo de ejecución en un parte muy pequeña del dataset no es factible trabajar con él."
   ]
  },
  {
   "cell_type": "code",
   "execution_count": 16,
   "id": "0237ad92",
   "metadata": {
    "scrolled": true
   },
   "outputs": [
    {
     "name": "stdout",
     "output_type": "stream",
     "text": [
      "=== Decision Tree ===\n",
      "Accuracy: 0.9725\n",
      "Precision: 0.0710\n",
      "Recall: 0.1251\n",
      "F1 Score: 0.0906\n",
      "F2 Score: 0.1086\n",
      "Execution Time: 53.00 seconds\n",
      "==============================\n",
      "=== Naive Bayes ===\n",
      "Accuracy: 0.2651\n",
      "Precision: 0.0140\n",
      "Recall: 0.9539\n",
      "F1 Score: 0.0276\n",
      "F2 Score: 0.0662\n",
      "Execution Time: 1.56 seconds\n",
      "==============================\n",
      "=== GLM ===\n",
      "Accuracy: 0.8933\n",
      "Precision: 0.0656\n",
      "Recall: 0.6603\n",
      "F1 Score: 0.1194\n",
      "F2 Score: 0.2348\n",
      "Execution Time: 4.60 seconds\n",
      "==============================\n",
      "=== SVM ===\n",
      "Accuracy: 0.9890\n",
      "Precision: 0.0000\n",
      "Recall: 0.0000\n",
      "F1 Score: 0.0000\n",
      "F2 Score: 0.0000\n",
      "Execution Time: 27.05 seconds\n",
      "==============================\n",
      "=== Random Forest ===\n",
      "Accuracy: 0.9880\n",
      "Precision: 0.2725\n",
      "Recall: 0.0553\n",
      "F1 Score: 0.0919\n",
      "F2 Score: 0.0657\n",
      "Execution Time: 536.17 seconds\n",
      "==============================\n",
      "=== XGBOOST ===\n",
      "Accuracy: 0.9887\n",
      "Precision: 0.3937\n",
      "Recall: 0.0516\n",
      "F1 Score: 0.0912\n",
      "F2 Score: 0.0625\n",
      "Execution Time: 5.86 seconds\n",
      "==============================\n",
      "=== LightGBM ===\n",
      "[LightGBM] [Info] Number of positive: 296678, number of negative: 593356\n",
      "[LightGBM] [Info] Auto-choosing row-wise multi-threading, the overhead of testing was 0.083375 seconds.\n",
      "You can set `force_row_wise=true` to remove the overhead.\n",
      "And if memory is not enough, you can set `force_col_wise=true`.\n",
      "[LightGBM] [Info] Total Bins 9017\n",
      "[LightGBM] [Info] Number of data points in the train set: 890034, number of used features: 47\n",
      "[LightGBM] [Info] [binary:BoostFromScore]: pavg=0.333333 -> initscore=-0.693147\n",
      "[LightGBM] [Info] Start training from score -0.693147\n",
      "Accuracy: 0.9889\n",
      "Precision: 0.4404\n",
      "Recall: 0.0388\n",
      "F1 Score: 0.0713\n",
      "F2 Score: 0.0475\n",
      "Execution Time: 7.61 seconds\n",
      "==============================\n",
      "=== Adaboost ===\n",
      "Accuracy: 0.9536\n",
      "Precision: 0.1023\n",
      "Recall: 0.4169\n",
      "F1 Score: 0.1643\n",
      "F2 Score: 0.2582\n",
      "Execution Time: 230.87 seconds\n",
      "==============================\n",
      "=== Gradient Boost ===\n",
      "Accuracy: 0.9775\n",
      "Precision: 0.1679\n",
      "Recall: 0.2667\n",
      "F1 Score: 0.2061\n",
      "F2 Score: 0.2386\n",
      "Execution Time: 1067.58 seconds\n",
      "==============================\n"
     ]
    }
   ],
   "source": [
    "# Evaluate each machine learning model and print the results\n",
    "\n",
    "for model_name, model in models.items():\n",
    "    print(f\"=== {model_name} ===\")\n",
    "    \n",
    "    # For SVM, fit on a smaller subset for demonstration due to longer execution time\n",
    "    if model_name == 'SVM':\n",
    "        accuracy, precision, recall, f1, f2, execution_time = evaluate_model(model, X_train.head(10000), y_train.head(10000), X_val, y_val)\n",
    "    else:\n",
    "        accuracy, precision, recall, f1, f2, execution_time = evaluate_model(model, X_train, y_train, X_val, y_val)\n",
    "    \n",
    "    # Print evaluation metrics for each model\n",
    "    print(f\"Accuracy: {accuracy:.4f}\")\n",
    "    print(f\"Precision: {precision:.4f}\")\n",
    "    print(f\"Recall: {recall:.4f}\")\n",
    "    print(f\"F1 Score: {f1:.4f}\")\n",
    "    print(f\"F2 Score: {f2:.4f}\")\n",
    "    print(f\"Execution Time: {execution_time:.2f} seconds\")\n",
    "    print(\"=\" * 30)\n",
    "\n",
    "\n",
    "    "
   ]
  },
  {
   "cell_type": "markdown",
   "id": "d4eb8d03",
   "metadata": {},
   "source": [
    "A la hora de entrenar los diferentes modelos hemos obtenido 6 métricas por modelo: Accuracy, Precision, Recall, F1, F2 y el tiempo de ejecución. A la hora de seleccionar el mejor o mejores modelos, nos guiaremos principalmente del F2 score.\n",
    "\n",
    "El F2 nos será de gran utilidad, ya que se trata de una métrica más óptima cuando tratamos de reducir los Falsos Negativos. En nuestro problema, queremos reducir los fraudes que en la predicción se clasifican como no fraudes, y estaremos dispuestos a asumir más Falsos Positivos, esto es no fraudes que se clasifican como fraudes en la predicción.\n",
    "\n",
    "Al priorizar el recall, el modelo se vuelve más efectivo en identificar un mayor porcentaje de solicitudes fraudulentas, reduciendo así la probabilidad de que eventos de fraude pasen desapercibidos. En el contexto bancario, donde la detección temprana y precisa de actividades fraudulentas es esencial para proteger los activos y la integridad del sistema financiero, la métrica F2 se alinea de manera óptima con el objetivo de minimizar los falsos negativos.\n",
    "\n",
    "Debido a ello consideramos F2 como la métrica más óptima, pues otorga más importancia al Recall que a Precision, y nos proporciona un equilibrio adecuado para asegurarnos de que el modelo sigue siendo adecuado en términos de precisión.\n",
    "\n"
   ]
  },
  {
   "cell_type": "markdown",
   "id": "96aa4b43",
   "metadata": {},
   "source": [
    "\n",
    "\n",
    "\n",
    "\n",
    "A la hora de escoger el modelo ganador vemos que existen 3 modelos con un F2 superior a 0.2, que son GLM, Adaboost y Gradient Boost. El GLM es peor que el Adaboost en todas las métricas a excepción del recall y el tiempo de ejecución. El Gradient Boost mejora al Adaboost es accuracy, precision y F1, sin embargo es mucho más lento que el Adaboost.\n",
    "\n",
    "Por lo comentado anteriormente, decidimos escoger como modelo ganador el algoritmo Adaboost, ya que es el que consigue mayor F2 y consigue buenos valores para el resto de métricas."
   ]
  },
  {
   "cell_type": "code",
   "execution_count": 17,
   "id": "bd8fb05b",
   "metadata": {},
   "outputs": [],
   "source": [
    "# Save the training set (pd_fraud_train_0) to a CSV file named 'train.csv' in the 'data' directory without including the index\n",
    "pd_fraud_train_0.to_csv('../data/train.csv', index=False)\n",
    "\n",
    "# Save the test set (pd_fraud_test) to a CSV file named 'test.csv' in the 'data' directory without including the index\n",
    "pd_fraud_test.to_csv('../data/test.csv', index=False)"
   ]
  }
 ],
 "metadata": {
  "kernelspec": {
   "display_name": "practica0",
   "language": "python",
   "name": "practica0"
  },
  "language_info": {
   "codemirror_mode": {
    "name": "ipython",
    "version": 3
   },
   "file_extension": ".py",
   "mimetype": "text/x-python",
   "name": "python",
   "nbconvert_exporter": "python",
   "pygments_lexer": "ipython3",
   "version": "3.9.18"
  }
 },
 "nbformat": 4,
 "nbformat_minor": 5
}
